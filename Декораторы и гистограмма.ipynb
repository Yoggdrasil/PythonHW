{
 "cells": [
  {
   "cell_type": "markdown",
   "metadata": {},
   "source": [
    "# Плотность вероятности нормального распределения (гистограмма и функция)"
   ]
  },
  {
   "cell_type": "code",
   "execution_count": 36,
   "metadata": {},
   "outputs": [
    {
     "data": {
      "image/png": "[encoded data removed]",
      "text/plain": [
       "<matplotlib.figure.Figure at 0x7fb1fdafc518>"
      ]
     },
     "metadata": {},
     "output_type": "display_data"
    }
   ],
   "source": [
    "import matplotlib.pyplot as plt\n",
    "import numpy.random as rnd\n",
    "from scipy.stats import norm\n",
    "%matplotlib inline\n",
    "\n",
    "mu=6\n",
    "sig=2\n",
    "data = sig * rnd.standard_normal(1000) + mu\n",
    "\n",
    "a = plt.hist(data, bins = 12, range = (0,12), normed=True)\n",
    "x = np.linspace(0,12,100)\n",
    "y = norm.pdf(x,mu,sig)  # Probability density function\n",
    "\n",
    "plt.plot(x,y,'r')\n",
    "plt.xlabel('bins')\n",
    "plt.ylabel('probability')\n",
    "\n",
    "plt.show()"
   ]
  },
  {
   "cell_type": "markdown",
   "metadata": {},
   "source": [
    "# Пример класса"
   ]
  },
  {
   "cell_type": "code",
   "execution_count": 14,
   "metadata": {},
   "outputs": [
    {
     "name": "stdout",
     "output_type": "stream",
     "text": [
      "Total Employee 1\n",
      "Name :  John , Salary:  3800\n"
     ]
    }
   ],
   "source": [
    "class Employee(object):\n",
    "    \"\"\"common base class for all employees\"\"\"\n",
    "    empCount = 0\n",
    "    \n",
    "    def __init__(self, name, salary):\n",
    "        self.name = name\n",
    "        self.salary = salary\n",
    "        Employee.empCount += 1\n",
    "        \n",
    "    def displayCount(self):\n",
    "        print(\"Total Employee %d\" %Employee.empCount)\n",
    "        \n",
    "    def displayEmployee(self):\n",
    "        print(\"Name : \", self.name, \", Salary: \", self.salary)\n",
    "        \n",
    "        \n",
    "first = Employee(\"John\", 3800)\n",
    "\n",
    "first.displayCount()\n",
    "first.displayEmployee()"
   ]
  },
  {
   "cell_type": "markdown",
   "metadata": {},
   "source": [
    "# Тестовый декоратор"
   ]
  },
  {
   "cell_type": "code",
   "execution_count": 23,
   "metadata": {},
   "outputs": [
    {
     "name": "stdout",
     "output_type": "stream",
     "text": [
      "Hi, foo has been called with я без декоратора\n",
      "\n",
      "\n",
      "before function foo\n",
      "Hi, foo has been called with 42\n",
      "after function foo\n"
     ]
    }
   ],
   "source": [
    "def my_decorator(func):\n",
    "    def function_wrapper(x):\n",
    "        print(\"before function \" + func.__name__)\n",
    "        func(x)\n",
    "        print(\"after function \" + func.__name__)\n",
    "    return function_wrapper\n",
    "\n",
    "def foo(x):\n",
    "    print(\"Hi, foo has been called with \" + str(x))\n",
    "\n",
    "\n",
    "    \n",
    "foo(\"я без декоратора\")\n",
    "print(\"\\n\")\n",
    "\n",
    "@my_decorator\n",
    "def foo(x):\n",
    "    print(\"Hi, foo has been called with \" + str(x))\n",
    "    \n",
    "#foo(\"я с декоратором\")\n",
    "foo(42)"
   ]
  },
  {
   "cell_type": "markdown",
   "metadata": {},
   "source": [
    "# декоратор на время выполнения функции"
   ]
  },
  {
   "cell_type": "code",
   "execution_count": 21,
   "metadata": {},
   "outputs": [
    {
     "name": "stdout",
     "output_type": "stream",
     "text": [
      "Hi, foo has been called with lol\n",
      "'foo'  0.31 ms\n"
     ]
    }
   ],
   "source": [
    "import time as t\n",
    "\n",
    "def time_decor(func):\n",
    "    def function_wrapper(x):\n",
    "        ts = t.time()\n",
    "        func(x)\n",
    "        te = t.time()\n",
    "        print('%r  %2.2f ms' % (func.__name__, (te - ts) * 1000))\n",
    "    return function_wrapper\n",
    "    \n",
    "@time_decor\n",
    "def foo(x):\n",
    "    print(\"Hi, foo has been called with \" + str(x))\n",
    "    \n",
    "foo(\"lol\")"
   ]
  },
  {
   "cell_type": "markdown",
   "metadata": {},
   "source": [
    "# Кэширующий декоратор"
   ]
  },
  {
   "cell_type": "code",
   "execution_count": 37,
   "metadata": {},
   "outputs": [
    {
     "name": "stdout",
     "output_type": "stream",
     "text": [
      "4\n",
      "\n",
      "\n",
      "yes\n",
      "4\n"
     ]
    }
   ],
   "source": [
    "class cache_decor(object):\n",
    "    def __init__(self, func):\n",
    "        self.func = func\n",
    "        self.cache = {}\n",
    "    \n",
    "    def __call__(self, *args):\n",
    "        if args in self.cache:\n",
    "            print(\"yes\")\n",
    "            return self.cache[args]\n",
    "        else:\n",
    "            value = self.func(*args)\n",
    "            self.cache[args] = value\n",
    "            return value\n",
    "\n",
    "@cache_decor        \n",
    "def my_sum(a, b):\n",
    "    return a + b\n",
    "\n",
    "print(my_sum(1, 3))\n",
    "print(\"\\n\")\n",
    "print(my_sum(1, 3))"
   ]
  }
 ],
 "metadata": {
  "kernelspec": {
   "display_name": "Python 3",
   "language": "python",
   "name": "python3"
  },
  "language_info": {
   "codemirror_mode": {
    "name": "ipython",
    "version": 3
   },
   "file_extension": ".py",
   "mimetype": "text/x-python",
   "name": "python",
   "nbconvert_exporter": "python",
   "pygments_lexer": "ipython3",
   "version": "3.6.3"
  }
 },
 "nbformat": 4,
 "nbformat_minor": 2
}
