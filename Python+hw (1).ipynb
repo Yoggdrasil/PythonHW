{
 "cells": [
  {
   "cell_type": "markdown",
   "metadata": {},
   "source": [
    "# Задание по numpy\n",
    "1. Напишите свой аналог np.linspace с использованием цикла и с использованием list comprehension. Сравните все три варианта по производительности\n",
    "2. Сравните по производительности основные операции с массивами (array) numpy и с list"
   ]
  },
  {
   "cell_type": "code",
   "execution_count": 5,
   "metadata": {},
   "outputs": [
    {
     "name": "stdout",
     "output_type": "stream",
     "text": [
      "22.5 µs ± 527 ns per loop (mean ± std. dev. of 7 runs, 10000 loops each)\n",
      "28.1 µs ± 1.03 µs per loop (mean ± std. dev. of 7 runs, 10000 loops each)\n",
      "41.6 µs ± 2.29 µs per loop (mean ± std. dev. of 7 runs, 10000 loops each)\n"
     ]
    }
   ],
   "source": [
    "import numpy as np\n",
    "\n",
    "min = -1.0\n",
    "max = 2.0\n",
    "count = 100\n",
    "dummy = []\n",
    "\n",
    "%timeit np.linspace(min, max, count)\n",
    "\n",
    "%timeit [min + (max-min)*i/(count-1) for i in range(0, count-1)]\n",
    "\n",
    "%timeit for i in range(0, count-1): dummy.append(min + (max-min)*i/(count-1))"
   ]
  },
  {
   "cell_type": "code",
   "execution_count": 7,
   "metadata": {},
   "outputs": [
    {
     "name": "stdout",
     "output_type": "stream",
     "text": [
      "14.6 µs ± 1.98 µs per loop (mean ± std. dev. of 7 runs, 10000 loops each)\n"
     ]
    }
   ],
   "source": [
    "def linspace_generator(min, max, count):\n",
    "    step = (max-min)/(count-1)\n",
    "    while min<=max:\n",
    "        yield min\n",
    "        min += step\n",
    "        \n",
    "%timeit [x for x in linspace_generator(min, max, count)]"
   ]
  },
  {
   "cell_type": "code",
   "execution_count": 44,
   "metadata": {},
   "outputs": [
    {
     "name": "stdout",
     "output_type": "stream",
     "text": [
      "np.array\n",
      "list\n",
      "\n",
      "#slice\n",
      "273 ns ± 50 ns per loop (mean ± std. dev. of 7 runs, 1000000 loops each)\n",
      "162 ns ± 14.1 ns per loop (mean ± std. dev. of 7 runs, 10000000 loops each)\n",
      "\n",
      "\n",
      "#append\n",
      "12.7 µs ± 2.28 µs per loop (mean ± std. dev. of 7 runs, 100000 loops each)\n",
      "152 ns ± 10.6 ns per loop (mean ± std. dev. of 7 runs, 10000000 loops each)\n",
      "\n",
      "\n",
      "#insert\n",
      "19 µs ± 1.06 µs per loop (mean ± std. dev. of 7 runs, 10000 loops each)\n",
      "210 ms ± 22.6 ms per loop (mean ± std. dev. of 7 runs, 10 loops each)\n",
      "\n",
      "\n",
      "#delete\n",
      "14.4 µs ± 1.44 µs per loop (mean ± std. dev. of 7 runs, 100000 loops each)\n",
      "197 ms ± 13.6 ms per loop (mean ± std. dev. of 7 runs, 10 loops each)\n",
      "\n",
      "\n"
     ]
    }
   ],
   "source": [
    "arra = np.array([1,2,3])\n",
    "x = [1,2,3]\n",
    "\n",
    "print(\"np.array\\nlist\\n\")\n",
    "\n",
    "print(\"#slice\")\n",
    "%timeit arra[:1]\n",
    "%timeit x[:1]\n",
    "print(\"\\n\")\n",
    "\n",
    "print(\"#append\")\n",
    "%timeit np.append(arra, [4])\n",
    "%timeit x.append(4)\n",
    "print(\"\\n\")\n",
    "\n",
    "print(\"#insert\")\n",
    "my_value = 0\n",
    "pos = 0\n",
    "%timeit np.insert(arra, pos, my_value)\n",
    "%timeit x.insert(pos, my_value)\n",
    "print(\"\\n\")\n",
    "\n",
    "print(\"#delete\")\n",
    "pos = 0\n",
    "%timeit np.delete(arra, pos, axis=0)\n",
    "%timeit del x[pos]\n",
    "print(\"\\n\")"
   ]
  },
  {
   "cell_type": "markdown",
   "metadata": {},
   "source": [
    "# Задание по Matplotlib\n",
    "1. Добавьте подписи к осям и легенду к примеру выше (см. документацию)\n",
    "2. Постройте график с 5 разными элементарными функциями и сделайте легенду к графику в TeXe\n",
    "3. Сохраните рисунок в файл строчкой кода на Python"
   ]
  },
  {
   "cell_type": "code",
   "execution_count": 99,
   "metadata": {},
   "outputs": [
    {
     "data": {
      "image/png": "[encoded data removed]",
      "text/plain": [
       "<matplotlib.figure.Figure at 0x1e482a367b8>"
      ]
     },
     "metadata": {},
     "output_type": "display_data"
    }
   ],
   "source": [
    "% matplotlib inline\n",
    "\n",
    "from matplotlib import pylab as plt\n",
    "\n",
    "x = np.linspace(0, 4, 1000)\n",
    "plt.plot(x, np.sin(x), '-b', label=r'$\\sin (x)$')\n",
    "plt.plot(x, np.cos(x), '-r', label=r'$\\cos (x)$')\n",
    "plt.plot(x, x**2, '-g', label=r'$x^2$')\n",
    "plt.plot([1, 3, 5, 7], range(4), '--r', label='some line')\n",
    "plt.plot([1, 3, 5, 7], [z*2 for z in [1, 3, 5, 7]], '--g', label='$2x$')\n",
    "\n",
    "plt.legend(loc=\"upper right\")\n",
    "\n",
    "plt.xlabel(\"this is x!\")\n",
    "plt.ylabel(\"this is y!\")\n",
    "plt.title(\"My first plot!\")\n",
    "\n",
    "plt.ylim(-2, 10)\n",
    "plt.xlim(0, 4)\n",
    "\n",
    "plt.savefig(\"D:\\\\My_first_plot!.pdf\")\n",
    "plt.show()"
   ]
  },
  {
   "cell_type": "markdown",
   "metadata": {},
   "source": [
    "# Задание на Numpy+Matplotlib\n",
    "1. Сгенерируйте массив из 500 точек на плоскости с координатами $(x, y)$, такими, что $x$ меняется от -1 до 1, а $y = 2x - 1 + \\varepsilon$, где $\\varepsilon \\sim \\mathcal{N}(0, 0.1)$\n",
    "2. Сгенерируйте массив из 100 точек на плоскости с координатами $(x, y)$, такими, что $x$ меняется от -1 до 1, а $y = 1 + \\varepsilon$, где $\\varepsilon \\sim \\mathcal{N}(0, 0.1)$\n",
    "3. Изобразите первый и второй массив точек на плоскости (используя два разных цвета), а также график функии $f(x) = 2x - 1$ (используя какой-нибудь третий цвет)"
   ]
  },
  {
   "cell_type": "code",
   "execution_count": 160,
   "metadata": {},
   "outputs": [
    {
     "data": {
      "image/png": "[encoded data removed]",
      "text/plain": [
       "<matplotlib.figure.Figure at 0x1e482e922e8>"
      ]
     },
     "metadata": {},
     "output_type": "display_data"
    }
   ],
   "source": [
    "% matplotlib inline\n",
    "from matplotlib import pylab as plt\n",
    "import numpy as np\n",
    "import math\n",
    "\n",
    "# import matplotlib as mpl\n",
    "# mpl.style.use('classic')\n",
    "# print(mpl.rcParams['font.family'])\n",
    "\n",
    "# mpl.rcParams['figure.figsize'] = [16.0, 12.0]\n",
    "# mpl.rcParams['figure.dpi'] = 100\n",
    "\n",
    "L = 500  # red\n",
    "x = np.linspace(-1, 1, L)\n",
    "y = 2 * x - 1 + math.sqrt(0.1) * np.random.randn(L)\n",
    "\n",
    "M = 100  # blue\n",
    "xx = np.linspace(-1, 1, M)\n",
    "yy = 1 + math.sqrt(0.1) * np.random.randn(M)\n",
    "\n",
    "\n",
    "plt.plot(x, y, '.r', label=r'$y = 2x - 1 + \\varepsilon$')\n",
    "plt.plot(xx, yy, '.b', label=r'$y = 1 + \\varepsilon$')\n",
    "plt.plot(x, 2 * x - 1, '-g', label=r'$y = 2x - 1$')\n",
    "\n",
    "plt.legend(loc=\"lower right\")\n",
    "\n",
    "plt.xlabel(\"this is x!\")\n",
    "plt.ylabel(\"this is y!\")\n",
    "plt.title(\"My second plot!\")\n",
    "\n",
    "plt.show()"
   ]
  },
  {
   "cell_type": "markdown",
   "metadata": {},
   "source": [
    "# Проверяем работу регуляризации в полиномиальной регрессии\n",
    "1. Генерируем выборку для нашего примера\n",
    "2. Делаем восстановление зависимости полиномом\n",
    "3. Строим график восстановленной зависимости для разных C"
   ]
  },
  {
   "cell_type": "code",
   "execution_count": 194,
   "metadata": {},
   "outputs": [
    {
     "data": {
      "image/png": "[encoded data removed]",
      "text/plain": [
       "<matplotlib.figure.Figure at 0x1e482fa19e8>"
      ]
     },
     "metadata": {},
     "output_type": "display_data"
    },
    {
     "data": {
      "image/png": "[encoded data removed]",
      "text/plain": [
       "<matplotlib.figure.Figure at 0x1e482c68748>"
      ]
     },
     "metadata": {},
     "output_type": "display_data"
    }
   ],
   "source": [
    "# выборка с предыдущего примера\n",
    "from scipy.optimize import minimize\n",
    "\n",
    "\n",
    "def poly(x, coeffs):\n",
    "    return sum([coeffs[k] * x ** k for k in range(len(coeffs))])\n",
    "\n",
    "def loss_function(coeffs):\n",
    "    loss = 0.0\n",
    "    loss += sum((poly(x, coeffs) - y) ** 2)    \n",
    "    loss += C * sum((coeffs ** 2))\n",
    "    return loss\n",
    "\n",
    "\n",
    "init_coeffs = np.array([0.01] * 10)\n",
    "\n",
    "C = 1000\n",
    "result = minimize(loss_function, init_coeffs)\n",
    "plt.plot(x, poly(x, result.x), '-c', label=r\"$C = 1000$\")\n",
    "\n",
    "C = 100\n",
    "result = minimize(loss_function, init_coeffs)\n",
    "plt.plot(x, poly(x, result.x), '-r', label=r\"$C = 100$\")\n",
    "\n",
    "C = 10\n",
    "result = minimize(loss_function, init_coeffs)\n",
    "plt.plot(x, poly(x, result.x), '-b', label=r\"$C = 10$\")\n",
    "\n",
    "C = 1\n",
    "result = minimize(loss_function, init_coeffs)\n",
    "plt.plot(x, poly(x, result.x), '-m', label=r\"$C = 1$\")\n",
    "\n",
    "plt.plot(x, y, '.g', label=r'$y = 2x - 1 + \\varepsilon$')\n",
    "\n",
    "plt.legend(loc=\"lower right\")\n",
    "\n",
    "plt.xlabel(\"this is x!\")\n",
    "plt.ylabel(\"this is y!\")\n",
    "plt.title(\"My third plot!\")\n",
    "\n",
    "plt.show()\n",
    "\n",
    "#### Теперь для другой функции\n",
    "def loss_function(coeffs):\n",
    "    loss = 0.0\n",
    "    loss += sum((poly(xx, coeffs) - yy) ** 2)    \n",
    "    loss += C * sum((coeffs ** 2))\n",
    "    return loss\n",
    "\n",
    "C = 1000\n",
    "result = minimize(loss_function, init_coeffs)\n",
    "plt.plot(xx, poly(xx, result.x), '-c', label=r\"$C = 1000$\")\n",
    "\n",
    "C = 100\n",
    "result = minimize(loss_function, init_coeffs)\n",
    "plt.plot(xx, poly(xx, result.x), '-r', label=r\"$C = 100$\")\n",
    "\n",
    "C = 10\n",
    "result = minimize(loss_function, init_coeffs)\n",
    "plt.plot(xx, poly(xx, result.x), '-b', label=r\"$C = 10$\")\n",
    "\n",
    "C = 1\n",
    "result = minimize(loss_function, init_coeffs)\n",
    "plt.plot(xx, poly(xx, result.x), '-m', label=r\"$C = 1$\")\n",
    "\n",
    "plt.plot(xx, yy, '.g', label=r'$y = 1 + \\varepsilon$')\n",
    "\n",
    "plt.legend(loc=\"lower right\")\n",
    "\n",
    "plt.xlabel(\"this is x!\")\n",
    "plt.ylabel(\"this is y!\")\n",
    "plt.title(\"My forth plot!\")\n",
    "\n",
    "plt.ylim(-4, 2)\n",
    "plt.xlim(-1, 1)\n",
    "\n",
    "plt.show()\n"
   ]
  },
  {
   "cell_type": "markdown",
   "metadata": {},
   "source": [
    "# Задачки на синтаксис (часть 1)\n",
    "1. Сформируйте на основе этого массива словарь my_base, в котором по ключу в виде строки с телефоном абонента будет храниться другой словарь. Внутренний словарь по ключам в виде названий полей отзыва должен хранить значение полей (в виде строк). Например, код ниже должен выдать True: my_base['+7 916 000 00 01']['Дата'] == '20.05.2017' Обратите внимание, что вам могут немного мешать пробелы после знаков \":\"\n",
    "2. Попробуйте выполнить предыдущее задание, но теперь обеспечив хранение полей из отзыва в словаре в тех типах данных, которые на ваш взгляд наиболее уместны. Подумайте, что делать с датой и временем. Возможно вам покажется полезным немного воспользоваться поисковиком или документацией к Python, а может быть вам хватит стандартных типов данных. Объясните свой выбор в комментариях к коду или markdown ячейках и продемонстрируйте, что поля имеют нужный тип.\n",
    "3. На лекции было рассказано про неизменяемые типы, в частности про tuple. Подумайте, можно ли \"сломать\" неизменяемость tuple? Как сделать tuple изменяемым? Можно ли будет его добавить в множество или использовать в качестве ключа в словаре?"
   ]
  },
  {
   "cell_type": "code",
   "execution_count": 12,
   "metadata": {},
   "outputs": [
    {
     "name": "stdout",
     "output_type": "stream",
     "text": [
      "{'+7 916 000 00 01': {'Время': '10:34', 'Дата': '20.05.2017', 'Оценка': '1', 'Длительность разговора (мин.)': '0:32', 'Комментарий': 'Общение с сотрудником вашей техподдержки мне не понравилось. Раньше всегда отвечала девушка с приятным голосом, а сегодня какой-то мужчина. Совсем никуда не годится, примите меры!!!'}, '+7 916 000 00 02': {'Время': '9:20', 'Дата': '21.05.2017', 'Оценка': '5', 'Длительность разговора (мин.)': '25:07', 'Комментарий': 'С моей проблемой мне помогли, большое спасибо!'}}\n"
     ]
    }
   ],
   "source": [
    "reviews = [\"\"\"Телефон абонента: +7 916 000 00 01\n",
    "Время: 10:34\n",
    "Дата: 20.05.2017\n",
    "Оценка: 1\n",
    "Длительность разговора (мин.): 0:32\n",
    "Комментарий: Общение с сотрудником вашей техподдержки мне не понравилось. Раньше всегда отвечала девушка с приятным голосом, а сегодня какой-то мужчина. Совсем никуда не годится, примите меры!!!\"\"\",\n",
    "\"\"\"Телефон абонента: +7 916 000 00 02\n",
    "Время: 9:20\n",
    "Дата: 21.05.2017\n",
    "Оценка: 5\n",
    "Длительность разговора (мин.): 25:07\n",
    "Комментарий: С моей проблемой мне помогли, большое спасибо!\"\"\"]\n",
    "\n",
    "my_base = dict()\n",
    "\n",
    "for rev in reviews:  # цикл по отзывам\n",
    "    splitted_rev = rev.split('\\n')\n",
    "    \n",
    "    # создаем словарь для отзыва\n",
    "    temp = splitted_rev[0].split(': ')\n",
    "    \"\"\" \n",
    "    в temp попадет лишь первая строчка (оттуда нужен номер телефона)\n",
    "    \n",
    "    ['Телефон абонента', '+7 916 000 00 01']\n",
    "    ['Время', '10:34']\n",
    "    ['Дата', '20.05.2017']\n",
    "    ...\n",
    "    \"\"\"\n",
    "    key = temp[1]  \n",
    "    my_base[key] = dict()\n",
    "    \n",
    "    for s in splitted_rev[1:]:  # цикл по строкам внутри отзыва (после телефона)\n",
    "        s_split = s.split(': ')  # разбили каждую строку key: value\n",
    "        my_base[key][s_split[0]] = s_split[1]\n",
    "    \n",
    "print(my_base)\n",
    "# s = ','.join(splitted)\n"
   ]
  },
  {
   "cell_type": "code",
   "execution_count": 3,
   "metadata": {},
   "outputs": [
    {
     "name": "stdout",
     "output_type": "stream",
     "text": [
      "([1, 2], [3, 4])\n",
      "([1, 2, 0], [3, 4])\n"
     ]
    }
   ],
   "source": [
    "# \"ломаем\" tuple\n",
    "\n",
    "a = [1, 2]\n",
    "b = [3, 4]\n",
    "c = (a, b)\n",
    "print(c)\n",
    "\n",
    "c[0].append(0)\n",
    "print(c)\n",
    "\n",
    "lol = set()\n",
    "# lol.add(c) - увидит list внутри tuple, поэтому выдаст error\n",
    "\n",
    "kek = dict()\n",
    "# kek[c] = \"catch me if you can\" - увидит list внутри tuple, поэтому выдаст error\n"
   ]
  },
  {
   "cell_type": "code",
   "execution_count": 19,
   "metadata": {},
   "outputs": [
    {
     "name": "stdout",
     "output_type": "stream",
     "text": [
      "lol <class 'str'>\n",
      "lol <class 'str'>\n",
      "лол <class 'str'>\n",
      "лол <class 'str'>\n",
      "True\n",
      "True\n"
     ]
    }
   ],
   "source": [
    "# похоже, на 3-ем питоне с кодировками не нужно париться\n",
    "\n",
    "a = \"lol\"\n",
    "b = u\"lol\"\n",
    "c = \"лол\"\n",
    "d = u\"лол\"\n",
    "\n",
    "for var in [a, b, c, d]: print(var, type(var))\n",
    "    \n",
    "print(\"string\" == u\"string\")\n",
    "print(\"строка\" == u\"строка\")"
   ]
  },
  {
   "cell_type": "code",
   "execution_count": 25,
   "metadata": {},
   "outputs": [
    {
     "name": "stdout",
     "output_type": "stream",
     "text": [
      "СЃС‚СЂРѕС‡РєР°\n",
      "строка <class 'str'>\n",
      "b'\\xd1\\x81\\xd1\\x82\\xd1\\x80\\xd0\\xbe\\xd0\\xba\\xd0\\xb0' <class 'bytes'>\n",
      "9 <class 'int'>\n",
      "None <class 'NoneType'>\n",
      "True <class 'bool'>\n"
     ]
    }
   ],
   "source": [
    "# кроме того, здесь нет типов - только классы)\n",
    "\n",
    "print('строчка'.encode('utf-8').decode('windows-1251'))\n",
    "# print('строчка'.decode('windows-1251').encode('utf-8')) \n",
    "# AttributeError: 'str' object has no attribute 'decode'\n",
    "\n",
    "a = \"строка\"\n",
    "b = a.encode('utf-8')\n",
    "c = 9\n",
    "d = None\n",
    "e = True\n",
    "\n",
    "for var in [a, b, c, d, e]: print(var, type(var))"
   ]
  },
  {
   "cell_type": "markdown",
   "metadata": {},
   "source": [
    "# Задачки на синтаксис (часть 2)"
   ]
  },
  {
   "cell_type": "markdown",
   "metadata": {},
   "source": [
    "# Базовая часть"
   ]
  },
  {
   "cell_type": "markdown",
   "metadata": {},
   "source": [
    "# Задание 1.1\n",
    "Напишите функцию, которая принимает список чисел my_list (количество товаров разных марок) и число $n$ и возвращает сумму всех чисел списка меньше либо равных $n$ (суммарное количество товаров, которых в наличие меньше либо равно $n$)."
   ]
  },
  {
   "cell_type": "code",
   "execution_count": 64,
   "metadata": {},
   "outputs": [
    {
     "name": "stdout",
     "output_type": "stream",
     "text": [
      "6\n"
     ]
    }
   ],
   "source": [
    "def func(my_list, n):\n",
    "    s = 0\n",
    "    for i in my_list: \n",
    "        if i <= n: \n",
    "            s += i\n",
    "    return s\n",
    "\n",
    "my_list = [1, 2, 3, 4, 5]\n",
    "n = 3\n",
    "print(func(my_list, n))"
   ]
  },
  {
   "cell_type": "markdown",
   "metadata": {},
   "source": [
    "# Задание 1.2\n",
    "Имеется список пар (фамилия, долг) $my\\_list$ и число $dept$. Нужно написать функцию, которая для каждой фамилии находит суммарный долг и выводит отсортированный список фамилий, у которых долг строго больше $dept$.\n",
    "Одна и та же фамилия может встречаться несколько раз, и тогда долги по ней суммируются."
   ]
  },
  {
   "cell_type": "code",
   "execution_count": 74,
   "metadata": {},
   "outputs": [
    {
     "name": "stdout",
     "output_type": "stream",
     "text": [
      "[('meme', 12), ('rofl', 13)]\n"
     ]
    }
   ],
   "source": [
    "def func(my_list, dept):\n",
    "    temp = dict()\n",
    "    for surname, s in my_list:\n",
    "        if surname not in temp:\n",
    "            temp[surname] = s\n",
    "        else:\n",
    "            temp[surname] += s\n",
    "    \n",
    "    \n",
    "    dummy = [(key, temp[key]) for key in temp if temp[key] > dept]\n",
    "    return sorted(dummy, key =lambda tup: tup[0])\n",
    "    \n",
    "dept = 10\n",
    "my_list = [(\"lol\", 1), (\"kek\", 2), (\"rofl\", 7), (\"rofl\", 6), (\"meme\", 12)]\n",
    "\n",
    "print(func(my_list, dept))"
   ]
  },
  {
   "cell_type": "code",
   "execution_count": 69,
   "metadata": {},
   "outputs": [
    {
     "name": "stdout",
     "output_type": "stream",
     "text": [
      "('lol', 1)\n",
      "('kek', 2)\n",
      "<class 'dict_items'>\n"
     ]
    }
   ],
   "source": [
    "# к решению не относится\n",
    "# по dict.items() нельзя бегать итерацией\n",
    "\n",
    "a = {\"lol\": 1, \"kek\": 2}\n",
    "for x in a.items(): print(x)\n",
    "print(type(a.items()))"
   ]
  },
  {
   "cell_type": "markdown",
   "metadata": {},
   "source": [
    "\n",
    "# Продвинутая часть"
   ]
  },
  {
   "cell_type": "markdown",
   "metadata": {},
   "source": [
    "# Задание 2.1\n",
    "Напишите функцию, принимающую число $n$ и считающую $n!$, не используя модуль math\n",
    "$n! = 1 \\cdot 2 \\cdot 3 \\cdot \\dots \\cdot (n - 1) \\cdot n$\n",
    "Подсказка: воспользуйтесь функцией reduce или циклами"
   ]
  },
  {
   "cell_type": "code",
   "execution_count": 81,
   "metadata": {},
   "outputs": [
    {
     "name": "stdout",
     "output_type": "stream",
     "text": [
      "720\n",
      "720\n"
     ]
    }
   ],
   "source": [
    "def func(n):\n",
    "    s = 1\n",
    "    for x in range(1, n + 1): s *= x\n",
    "    return s\n",
    "print(func(6))\n",
    "\n",
    "\n",
    "from functools import reduce\n",
    "def func_1(n):\n",
    "    return reduce(lambda x, y: x * y, range(1, n + 1))\n",
    "\n",
    "print(func_1(6))"
   ]
  },
  {
   "cell_type": "markdown",
   "metadata": {},
   "source": [
    "# Задание 2.2\n",
    "Есть два списка чисел: цены товаров в одном магазине и цены товаров в другом магазине.\n",
    "Нужно сравнить средние (среднее берётся по всем товарам) цены, минимальные цены и максимальные в магазинах. Если первое зачение меньше надо вернуть 'First', если второе, то 'Second', а если равны, то 'Equal'\n",
    "Например, function_2_2([1, 2, 3], [2, 2, 2])\n",
    "В первом магазине среднее значение 2, минимальное 1, максимальное 3. А во втором среднее 2, минимальное 2 и максимальное 2.\n",
    "Результаты сравнения $2 = 2, 1<2, 3>2$, поэтому нужно вернуть ('Equal', 'First', 'Second')"
   ]
  },
  {
   "cell_type": "code",
   "execution_count": 85,
   "metadata": {},
   "outputs": [
    {
     "name": "stdout",
     "output_type": "stream",
     "text": [
      "['First', 'First', 'First']\n"
     ]
    }
   ],
   "source": [
    "def func(first, second):\n",
    "    temp = ([sum(first) / len(first), min(first), max(first)], \\\n",
    "            [sum(second) / len(second), min(second), max(second)])\n",
    "    \n",
    "    result = []\n",
    "    for i in range(3):\n",
    "        if temp[0][i] == temp[1][i]: result.append(\"Equal\")\n",
    "        elif temp[0][i] <= temp[1][i]: result.append(\"First\")\n",
    "        else: result.append(\"Second\")\n",
    "    \n",
    "    return result\n",
    "\n",
    "first = [1, 3, 4, 5]\n",
    "second = [9, 3, 5, 6]\n",
    "\n",
    "print(func(first, second))"
   ]
  },
  {
   "cell_type": "markdown",
   "metadata": {},
   "source": [
    "# Сложная часть"
   ]
  },
  {
   "cell_type": "markdown",
   "metadata": {},
   "source": [
    "# Задание 3.1\n",
    "Вам известны количество продаж разных товаров. Они представлены в виде списка, первое значение - число продаж первого товара, второе значение - второго, и так далее. Вы хотите посмотреть на список самых популярных товаров среди тех, у которых объём продаж не выше заданного числа.\n",
    "Напишите функцию, которая принимает список чисел my_list, число  $n$ и число $k$ и возвращает сумму $k$ наибольших чисел среди всех чисел списка меньше либо равных  $n$ ."
   ]
  },
  {
   "cell_type": "code",
   "execution_count": 104,
   "metadata": {},
   "outputs": [
    {
     "name": "stdout",
     "output_type": "stream",
     "text": [
      "13\n"
     ]
    }
   ],
   "source": [
    "def func(my_list, n, k):\n",
    "    \"\"\"возвращает сумму k наибольших чисел среди всех чисел списка меньше либо равных n.\"\"\"\n",
    "    my_list.sort()  # [-1, 3, 7] - по возрастанию\n",
    "    \n",
    "    temp_index = None\n",
    "    for i in range(len(my_list)):\n",
    "        if my_list[i] > n:\n",
    "            temp_index = i  # надо выкинуть все правее, включая этот индекс\n",
    "    \n",
    "    \n",
    "    if temp_index != None: my_list = my_list[:temp_index]  # правый индекс не включается\n",
    "    \n",
    "    return sum(my_list[-min(k, len(my_list)):])  # возможно, что останется меньше, чем k элементов\n",
    "                                                 # -> просуммирует min(k, len(my_list)) элементов, отсчитывая справа (от макс)\n",
    "\n",
    "my_list = [1, 4, 6, 7, 0, 3]\n",
    "n = 5\n",
    "k = 3\n",
    "\n",
    "print(func(my_list, n, k))"
   ]
  },
  {
   "cell_type": "markdown",
   "metadata": {},
   "source": [
    "# Задание 3.2\n",
    "Напишите списковое выражение, генерирующее все простые числа не больше заданного числа"
   ]
  },
  {
   "cell_type": "code",
   "execution_count": 113,
   "metadata": {},
   "outputs": [
    {
     "name": "stdout",
     "output_type": "stream",
     "text": [
      "[1, 2, 3, 5, 7, 11, 13, 17, 19, 23, 29, 31, 37, 41, 43, 47, 53, 59, 61, 67, 71, 73, 79, 83, 89, 97, 101, 103, 107, 109, 113]\n"
     ]
    }
   ],
   "source": [
    "# решето Эратосфена\n",
    "\n",
    "from math import sqrt\n",
    "n = 120\n",
    "\n",
    "noprimes = [j for i in range(2, int(sqrt(n)//1 + 1)) for j in range(i ** 2, n, i)]\n",
    "primes = [x for x in range(1, n) if x not in noprimes]\n",
    "\n",
    "print(primes)"
   ]
  },
  {
   "cell_type": "markdown",
   "metadata": {},
   "source": [
    "# Опциональная часть (выполнять по желанию, если интересно)"
   ]
  },
  {
   "cell_type": "markdown",
   "metadata": {},
   "source": [
    "# Задание 4.1\n",
    "Напишите функцию, которая по множеству, возвращает список всех его подмножеств"
   ]
  },
  {
   "cell_type": "code",
   "execution_count": 119,
   "metadata": {},
   "outputs": [
    {
     "name": "stdout",
     "output_type": "stream",
     "text": [
      "(1,)\n",
      "(2,)\n",
      "(3,)\n",
      "(1, 2)\n",
      "(1, 3)\n",
      "(2, 3)\n",
      "(1, 2, 3)\n"
     ]
    }
   ],
   "source": [
    "from itertools import combinations as cmb\n",
    "from itertools import chain\n",
    "\n",
    "def func(my_set):\n",
    "    temp = list(my_set)\n",
    "    for i in range(1, len(temp)+1):\n",
    "        for z in cmb(temp, i): \n",
    "            yield z\n",
    "\n",
    "my_set = {1, 2, 3}\n",
    "\n",
    "for x in func(my_set): print(x)"
   ]
  },
  {
   "cell_type": "markdown",
   "metadata": {},
   "source": [
    "# Задание 4.2\n",
    "Напишите функцию раскладывающее число на простые множители\n",
    "по числу $n$ нужно вернуть список пар $(p_i, c_i)$ такой, что $\\prod_i~p_i^{c_i} = n$"
   ]
  },
  {
   "cell_type": "code",
   "execution_count": 137,
   "metadata": {},
   "outputs": [
    {
     "name": "stdout",
     "output_type": "stream",
     "text": [
      "[делитель, кратность]\n",
      "[7, 1]\n"
     ]
    }
   ],
   "source": [
    "from math import sqrt\n",
    "\n",
    "def func(m):\n",
    "    n = int(m // 2 + 1)  # более крупных делителей не будет (искл, если m - простое)\n",
    "    \n",
    "    noprimes = [j for i in range(2, int(sqrt(n) // 1 + 1)) for j in range(i ** 2, n, i)]\n",
    "    primes = [x for x in range(2, n) if x not in noprimes]  # без 1\n",
    "    \n",
    "    result = []\n",
    "    \n",
    "    for denom in primes:\n",
    "        temp = [denom, 0]  # делитель: кратность\n",
    "        \n",
    "        while m % denom == 0:\n",
    "            m /= denom\n",
    "            temp[1] += 1\n",
    "            \n",
    "        if temp[1] != 0: result.append(temp)\n",
    "        \n",
    "        if m == 1: break\n",
    "    \n",
    "    return result if len(result) else [m, 1]\n",
    "\n",
    "m = 7\n",
    "\n",
    "print(\"[делитель, кратность]\")\n",
    "print(func(m))\n",
    "    "
   ]
  },
  {
   "cell_type": "markdown",
   "metadata": {},
   "source": [
    "# Работа с файлами"
   ]
  },
  {
   "cell_type": "markdown",
   "metadata": {},
   "source": [
    "# Базовый уровень"
   ]
  },
  {
   "cell_type": "markdown",
   "metadata": {},
   "source": [
    "# Задание 1.1\n",
    "Напишите функцию, копирующую файл\n",
    "source_path должен существовать, а отсутствующие промежуточные папки из target_path должны быть созданы\n",
    "Подсказка: можно прочитать исходный файл и записать в новый.\n",
    "Опциональное усложнение: попробуйте написать так, чтобы функция работала и с большими файлами (нужно, чтобы содежимое файла не считывалось полностью в память)"
   ]
  },
  {
   "cell_type": "code",
   "execution_count": 139,
   "metadata": {},
   "outputs": [
    {
     "name": "stderr",
     "output_type": "stream",
     "text": [
      "\"ls\" ­Ґ пў«пҐвбп ў­гваҐ­­Ґ© Ё«Ё ў­Ґи­Ґ©\n",
      "Є®¬ ­¤®©, ЁбЇ®«­пҐ¬®© Їа®Ја ¬¬®© Ё«Ё Ї ЄҐв­л¬ д ©«®¬.\n"
     ]
    }
   ],
   "source": [
    "!ls"
   ]
  },
  {
   "cell_type": "markdown",
   "metadata": {},
   "source": [
    "# Разное"
   ]
  },
  {
   "cell_type": "code",
   "execution_count": 67,
   "metadata": {},
   "outputs": [
    {
     "data": {
      "text/plain": [
       "5"
      ]
     },
     "execution_count": 67,
     "metadata": {},
     "output_type": "execute_result"
    }
   ],
   "source": [
    "# list comprehension vs lambda, reduce(), filter(), map()\n",
    "# Гвидо за list comprehension - типа заменяет все последнее\n",
    "\n",
    "import random\n",
    "\n",
    "names = ['Mary', 'Isla', 'Sam']\n",
    "\n",
    "secret_names = [random.choice(['Mr. Pink', 'Mr. Orange', 'Mr. Blonde']) for i in names]\n",
    "secret_names = [hash(x) for x in names]\n",
    "\n",
    "########\n",
    "my_list = [0, 0, -1, -2, -3, 4, 3, 2, 5]\n",
    "\n",
    "map(lambda x: abs(x), my_list)\n",
    "\n",
    "filter(lambda x: x > 0, my_list)\n",
    "\n",
    "sum(my_list)\n",
    "min(my_list)\n",
    "max(my_list)\n",
    "\n",
    "# reduce(lambda x, y: max(x, y), my_list) - вынесена в functools"
   ]
  },
  {
   "cell_type": "code",
   "execution_count": 36,
   "metadata": {},
   "outputs": [
    {
     "name": "stdout",
     "output_type": "stream",
     "text": [
      "Odd\n"
     ]
    }
   ],
   "source": [
    "# тернарный оператор\n",
    "\n",
    "a = 1\n",
    "print(\"Even\" if a % 2 == 0 else \"Odd\")"
   ]
  },
  {
   "cell_type": "code",
   "execution_count": 62,
   "metadata": {
    "collapsed": true
   },
   "outputs": [],
   "source": [
    "def applicator(function, argument):\n",
    "    return function(argument)\n",
    "\n",
    "def f(x, my_list=None):\n",
    "    if my_list is None:\n",
    "        my_list = []\n",
    "    my_list.append(x)\n",
    "    return sum(my_list)"
   ]
  },
  {
   "cell_type": "code",
   "execution_count": 61,
   "metadata": {},
   "outputs": [
    {
     "name": "stdout",
     "output_type": "stream",
     "text": [
      "[6, 2]\n",
      "[ 0.01  0.01  0.01  0.01  0.01  0.01  0.01  0.01  0.01  0.01]\n",
      "<class 'list_reverseiterator'>\n",
      "[8, 2, 3]\n",
      "<class 'list'>\n",
      "[8, 2, 3]\n"
     ]
    }
   ],
   "source": [
    "import numpy as np\n",
    "\n",
    "a = [1, 2, 3, 4, 5, 6]\n",
    "print(a[::-4]) # Идем с конца: включаем 0-й элемент, а затем каждый, чья позиция кратна 4\n",
    "print(np.array([0.01] * 10))\n",
    "\n",
    "a = [8, 2, 3]\n",
    "print(type(reversed(a)))\n",
    "print(a)\n",
    "\n",
    "print(type(sorted(a)))\n",
    "print(a)"
   ]
  },
  {
   "cell_type": "code",
   "execution_count": 92,
   "metadata": {},
   "outputs": [
    {
     "name": "stdout",
     "output_type": "stream",
     "text": [
      "[1, 2, 3, 2, 4, 6]\n"
     ]
    }
   ],
   "source": [
    "def mygenerator1(i):\n",
    "    for j in range(1, i+1):\n",
    "        yield j\n",
    "        \n",
    "def mygenerator2(i):\n",
    "    for j in range(1, i+1):\n",
    "        yield 2*j\n",
    "        \n",
    "def newgenerator(i):\n",
    "    yield from mygenerator1(i)\n",
    "    yield from mygenerator2(i)\n",
    "    \n",
    "\n",
    "a = [t for t in newgenerator(3)]\n",
    "print(a)"
   ]
  },
  {
   "cell_type": "code",
   "execution_count": 54,
   "metadata": {},
   "outputs": [
    {
     "data": {
      "image/png": "[encoded data removed]",
      "text/plain": [
       "<matplotlib.figure.Figure at 0x1eda9d04c88>"
      ]
     },
     "metadata": {},
     "output_type": "display_data"
    }
   ],
   "source": [
    "% matplotlib inline\n",
    "from matplotlib import pylab as plt\n",
    "\n",
    "image = np.random.randn(70, 70)\n",
    "# image = np.eye(70)\n",
    "plt.imshow(image, cmap=plt.cm.hot)\n",
    "plt.colorbar()\n",
    "plt.show()"
   ]
  },
  {
   "cell_type": "code",
   "execution_count": 56,
   "metadata": {},
   "outputs": [
    {
     "name": "stdout",
     "output_type": "stream",
     "text": [
      "first is 3, second is '4'\n",
      "first is 4, second is '5'\n",
      "first is 5, second is '6'\n",
      "first is 6, second is '6'\n",
      "first is 7, second is '6'\n",
      "first is 2, second is '5'\n",
      "\n",
      "\n",
      "\n",
      "0 3\n",
      "1 4\n",
      "2 5\n",
      "3 6\n",
      "4 7\n",
      "5 2\n",
      "\n",
      "\n",
      "[(0, 'Spring'), (1, 'Summer'), (2, 'Fall'), (3, 'Winter')]\n"
     ]
    }
   ],
   "source": [
    "elements = [3, 4, 5, 6, 7, 2]\n",
    "elements2 = [4, 5, 6, 6, 6, 5, 4]\n",
    "\n",
    "for element, element2 in zip(elements, elements2):\n",
    "    # print(element, element2)\n",
    "    print(\"first is {}, second is '{}'\". format(element, element2))\n",
    "    \n",
    "print(\"\\n\\n\")    \n",
    "    \n",
    "for i, elements in zip(range(len(elements)), elements):\n",
    "    print(i, elements)\n",
    "\n",
    "print('\\n')\n",
    "\n",
    "seasons = ['Spring', 'Summer', 'Fall', 'Winter']\n",
    "print(list(enumerate(seasons)))  # со списком чисел не сработает"
   ]
  }
 ],
 "metadata": {
  "kernelspec": {
   "display_name": "Python 3",
   "language": "python",
   "name": "python3"
  },
  "language_info": {
   "codemirror_mode": {
    "name": "ipython",
    "version": 3
   },
   "file_extension": ".py",
   "mimetype": "text/x-python",
   "name": "python",
   "nbconvert_exporter": "python",
   "pygments_lexer": "ipython3",
   "version": "3.6.3"
  }
 },
 "nbformat": 4,
 "nbformat_minor": 2
}
